{
 "cells": [
  {
   "cell_type": "markdown",
   "metadata": {},
   "source": [
    "# The hour of λ"
   ]
  },
  {
   "cell_type": "markdown",
   "metadata": {},
   "source": [
    "## Algebraic data types"
   ]
  },
  {
   "cell_type": "markdown",
   "metadata": {},
   "source": [
    "We can understand _types_ as collections of *values*. For instance:"
   ]
  },
  {
   "cell_type": "code",
   "execution_count": 1,
   "metadata": {},
   "outputs": [
    {
     "data": {
      "text/plain": [
       "\u001b[36mi\u001b[39m: \u001b[32mInt\u001b[39m = \u001b[32m1\u001b[39m\n",
       "\u001b[36mj\u001b[39m: \u001b[32mInt\u001b[39m = \u001b[32m0\u001b[39m\n",
       "\u001b[36mc\u001b[39m: \u001b[32mChar\u001b[39m = \u001b[32m'a'\u001b[39m\n",
       "\u001b[36md\u001b[39m: \u001b[32mChar\u001b[39m = \u001b[32m'\\u03bb'\u001b[39m\n",
       "\u001b[36ms\u001b[39m: \u001b[32mString\u001b[39m = \u001b[32m\"lambda\"\u001b[39m\n",
       "\u001b[36mt\u001b[39m: \u001b[32mString\u001b[39m = \u001b[32m\"pi\"\u001b[39m\n",
       "\u001b[36mb\u001b[39m: \u001b[32mBoolean\u001b[39m = true\n",
       "\u001b[36mb2\u001b[39m: \u001b[32mBoolean\u001b[39m = false"
      ]
     },
     "execution_count": 1,
     "metadata": {},
     "output_type": "execute_result"
    }
   ],
   "source": [
    "val i: Int = 1\n",
    "val j: Int = 0\n",
    "val c: Char = 'a'\n",
    "val d: Char = 'λ'\n",
    "val s: String = \"lambda\"\n",
    "val t: String = \"pi\"\n",
    "val b: Boolean = true\n",
    "val b2: Boolean = false"
   ]
  },
  {
   "cell_type": "markdown",
   "metadata": {},
   "source": [
    "These are *primitive* types, but we will normally want to create our own types, carefully crafted to represent the particular features of our application domain. We do that by combining types using so-called algebraic data type constructors: *sums* and *products*. "
   ]
  },
  {
   "cell_type": "markdown",
   "metadata": {},
   "source": [
    "### Product types"
   ]
  },
  {
   "cell_type": "markdown",
   "metadata": {},
   "source": [
    "Product types (more precisely, _record types_) are declared in Scala using so-called *case classes*:"
   ]
  },
  {
   "cell_type": "code",
   "execution_count": 2,
   "metadata": {},
   "outputs": [
    {
     "data": {
      "text/plain": [
       "defined \u001b[32mclass\u001b[39m \u001b[36mCircle\u001b[39m\n",
       "defined \u001b[32mclass\u001b[39m \u001b[36mRectangle\u001b[39m\n",
       "defined \u001b[32mclass\u001b[39m \u001b[36mTriangle\u001b[39m"
      ]
     },
     "execution_count": 2,
     "metadata": {},
     "output_type": "execute_result"
    }
   ],
   "source": [
    "case class Circle(radius: Int)\n",
    "case class Rectangle(width: Int, height: Int)\n",
    "case class Triangle(base: Int) "
   ]
  },
  {
   "cell_type": "markdown",
   "metadata": {},
   "source": [
    "We extract the information encoded by records using their named attributes: "
   ]
  },
  {
   "cell_type": "code",
   "execution_count": 3,
   "metadata": {},
   "outputs": [
    {
     "data": {
      "text/plain": [
       "\u001b[36mi\u001b[39m: \u001b[32mInt\u001b[39m = \u001b[32m3\u001b[39m\n",
       "\u001b[36mw\u001b[39m: \u001b[32mInt\u001b[39m = \u001b[32m1\u001b[39m"
      ]
     },
     "execution_count": 3,
     "metadata": {},
     "output_type": "execute_result"
    }
   ],
   "source": [
    "val i: Int = Circle(3).radius\n",
    "val w: Int = Rectangle(1,2).width"
   ]
  },
  {
   "cell_type": "markdown",
   "metadata": {},
   "source": [
    "### Sum types"
   ]
  },
  {
   "cell_type": "markdown",
   "metadata": {},
   "source": [
    "Sum types encode values taken from the disjoint union of other types. For instance, a geometrical shape may be defined as the sum of circles, rectangles and triangles: "
   ]
  },
  {
   "cell_type": "code",
   "execution_count": 4,
   "metadata": {},
   "outputs": [
    {
     "data": {
      "text/plain": [
       "defined \u001b[32mclass\u001b[39m \u001b[36mShape\u001b[39m\n",
       "defined \u001b[32mclass\u001b[39m \u001b[36mCircle\u001b[39m\n",
       "defined \u001b[32mclass\u001b[39m \u001b[36mRectangle\u001b[39m\n",
       "defined \u001b[32mclass\u001b[39m \u001b[36mTriangle\u001b[39m"
      ]
     },
     "execution_count": 4,
     "metadata": {},
     "output_type": "execute_result"
    }
   ],
   "source": [
    "abstract class Shape\n",
    "case class Circle(radius: Int) extends Shape\n",
    "case class Rectangle(width: Int, height: Int) extends Shape\n",
    "case class Triangle(base: Int) extends Shape"
   ]
  },
  {
   "cell_type": "markdown",
   "metadata": {},
   "source": [
    "We redefined the `Circle`, `Rectangle` and `Triangle` classes for convenience, but, in general, pre-existing definitions would be injected in the sum type by their own constructor. In this new form, when we create a `Rectangle` we are creating right away a `Shape` value:  "
   ]
  },
  {
   "cell_type": "code",
   "execution_count": 5,
   "metadata": {},
   "outputs": [
    {
     "data": {
      "text/plain": [
       "\u001b[36mshape\u001b[39m: \u001b[32mShape\u001b[39m = \u001b[33mRectangle\u001b[39m(\u001b[32m5\u001b[39m, \u001b[32m4\u001b[39m)"
      ]
     },
     "execution_count": 5,
     "metadata": {},
     "output_type": "execute_result"
    }
   ],
   "source": [
    "val shape: Shape = Rectangle(5,4)"
   ]
  },
  {
   "cell_type": "markdown",
   "metadata": {},
   "source": [
    "To extract information from a value of sum type, we use *pattern matching*: "
   ]
  },
  {
   "cell_type": "code",
   "execution_count": 6,
   "metadata": {},
   "outputs": [
    {
     "data": {
      "text/plain": [
       "\u001b[36mshapeType\u001b[39m: \u001b[32mString\u001b[39m = \u001b[32m\"rectangle\"\u001b[39m"
      ]
     },
     "execution_count": 6,
     "metadata": {},
     "output_type": "execute_result"
    }
   ],
   "source": [
    "val shapeType: String = shape match {\n",
    "    case Circle(_) => \"circle\"\n",
    "    case Rectangle(_, _) => \"rectangle\"\n",
    "    case Triangle(_) => \"triangle\"\n",
    "}"
   ]
  },
  {
   "cell_type": "markdown",
   "metadata": {},
   "source": [
    "### Function types"
   ]
  },
  {
   "cell_type": "markdown",
   "metadata": {},
   "source": [
    "Functions are computational devices that transform input values into output values, and do nothing else (i.e. they are free of side-effects). Function type values are also called *lambda expressions*. For instance:"
   ]
  },
  {
   "cell_type": "code",
   "execution_count": 7,
   "metadata": {},
   "outputs": [
    {
     "data": {
      "text/plain": [
       "\u001b[36mrectangleArea\u001b[39m: \u001b[32mRectangle\u001b[39m => \u001b[32mInt\u001b[39m = ammonite.$sess.cmd6$Helper$$Lambda$2271/1402424841@421a6c8f"
      ]
     },
     "execution_count": 7,
     "metadata": {},
     "output_type": "execute_result"
    }
   ],
   "source": [
    "val rectangleArea: Rectangle => Int = \n",
    "    (r: Rectangle) => r.width * r.height"
   ]
  },
  {
   "cell_type": "code",
   "execution_count": 8,
   "metadata": {},
   "outputs": [
    {
     "data": {
      "text/plain": [
       "\u001b[32mimport \u001b[39m\u001b[36mscala.math.{Pi, pow}\n",
       "\n",
       "\u001b[39m\n",
       "\u001b[36mcicleArea\u001b[39m: \u001b[32mCircle\u001b[39m => \u001b[32mDouble\u001b[39m = ammonite.$sess.cmd7$Helper$$Lambda$2308/1440279310@53045394"
      ]
     },
     "execution_count": 8,
     "metadata": {},
     "output_type": "execute_result"
    }
   ],
   "source": [
    "import scala.math.{Pi, pow}\n",
    "\n",
    "val cicleArea: Circle => Double = \n",
    "    (c: Circle) => Pi * pow(c.radius, 2)"
   ]
  },
  {
   "cell_type": "code",
   "execution_count": 9,
   "metadata": {},
   "outputs": [
    {
     "data": {
      "text/plain": [
       "\u001b[36mtriangleArea\u001b[39m: \u001b[32mTriangle\u001b[39m => \u001b[32mDouble\u001b[39m = ammonite.$sess.cmd8$Helper$$Lambda$2313/1055094051@1189c571"
      ]
     },
     "execution_count": 9,
     "metadata": {},
     "output_type": "execute_result"
    }
   ],
   "source": [
    "val triangleArea: Triangle => Double = \n",
    "    (t: Triangle) => t.base * t.base / 2.0"
   ]
  },
  {
   "cell_type": "code",
   "execution_count": 10,
   "metadata": {},
   "outputs": [
    {
     "data": {
      "text/plain": [
       "\u001b[36marea\u001b[39m: \u001b[32mShape\u001b[39m => \u001b[32mDouble\u001b[39m = ammonite.$sess.cmd9$Helper$$Lambda$2321/890623627@d3db356"
      ]
     },
     "execution_count": 10,
     "metadata": {},
     "output_type": "execute_result"
    }
   ],
   "source": [
    "val area: Shape => Double = (shape: Shape) => \n",
    "    shape match {\n",
    "        case c: Circle => cicleArea(c)\n",
    "        case r: Rectangle => rectangleArea(r)\n",
    "        case t: Triangle => triangleArea(t)\n",
    "    }"
   ]
  },
  {
   "cell_type": "markdown",
   "metadata": {},
   "source": [
    "We _extract_ information from a function value by applying it to a given input value:"
   ]
  },
  {
   "cell_type": "code",
   "execution_count": 11,
   "metadata": {},
   "outputs": [
    {
     "data": {
      "text/plain": [
       "\u001b[36mres10_0\u001b[39m: \u001b[32mDouble\u001b[39m = \u001b[32m20.0\u001b[39m\n",
       "\u001b[36mres10_1\u001b[39m: \u001b[32mDouble\u001b[39m = \u001b[32m3.141592653589793\u001b[39m\n",
       "\u001b[36mres10_2\u001b[39m: \u001b[32mDouble\u001b[39m = \u001b[32m0.5\u001b[39m"
      ]
     },
     "execution_count": 11,
     "metadata": {},
     "output_type": "execute_result"
    }
   ],
   "source": [
    "area.apply(Rectangle(5,4))\n",
    "// In Scala, we can omit the `apply` method\n",
    "area(Circle(1))\n",
    "area(Triangle(1))"
   ]
  },
  {
   "cell_type": "markdown",
   "metadata": {},
   "source": [
    "In Scala, functions are more commonly written as *methods*, for instance:"
   ]
  },
  {
   "cell_type": "code",
   "execution_count": 12,
   "metadata": {},
   "outputs": [
    {
     "data": {
      "text/plain": [
       "defined \u001b[32mfunction\u001b[39m \u001b[36marea\u001b[39m"
      ]
     },
     "execution_count": 12,
     "metadata": {},
     "output_type": "execute_result"
    }
   ],
   "source": [
    "def area(shape: Shape): Double = \n",
    "    shape match {\n",
    "        case c: Circle => cicleArea(c)\n",
    "        case r: Rectangle => rectangleArea(r)\n",
    "        case t: Triangle => triangleArea(t)\n",
    "    }"
   ]
  },
  {
   "cell_type": "markdown",
   "metadata": {},
   "source": [
    "## Recursive types"
   ]
  },
  {
   "cell_type": "markdown",
   "metadata": {},
   "source": [
    "Recursive types are types which, somehow, refer to themselves in their own definition. For example, a list can be the empty list (`Nil`) or a product consisting of a head and a tail (`Cons`), a list itself:"
   ]
  },
  {
   "cell_type": "code",
   "execution_count": 13,
   "metadata": {},
   "outputs": [
    {
     "data": {
      "text/plain": [
       "defined \u001b[32mclass\u001b[39m \u001b[36mShapeList\u001b[39m\n",
       "defined \u001b[32mclass\u001b[39m \u001b[36mNil\u001b[39m\n",
       "defined \u001b[32mclass\u001b[39m \u001b[36mCons\u001b[39m"
      ]
     },
     "execution_count": 13,
     "metadata": {},
     "output_type": "execute_result"
    }
   ],
   "source": [
    "sealed abstract class ShapeList\n",
    "case class Nil() extends ShapeList\n",
    "case class Cons(head: Shape, tail: ShapeList) extends ShapeList"
   ]
  },
  {
   "cell_type": "code",
   "execution_count": 14,
   "metadata": {},
   "outputs": [
    {
     "data": {
      "text/plain": [
       "\u001b[36mlist\u001b[39m: \u001b[32mShapeList\u001b[39m = \u001b[33mCons\u001b[39m(\n",
       "  \u001b[33mCircle\u001b[39m(\u001b[32m1\u001b[39m),\n",
       "  \u001b[33mCons\u001b[39m(\u001b[33mRectangle\u001b[39m(\u001b[32m4\u001b[39m, \u001b[32m5\u001b[39m), \u001b[33mCons\u001b[39m(\u001b[33mTriangle\u001b[39m(\u001b[32m4\u001b[39m), Nil()))\n",
       ")"
      ]
     },
     "execution_count": 14,
     "metadata": {},
     "output_type": "execute_result"
    }
   ],
   "source": [
    "val list: ShapeList = Cons(Circle(1), Cons(Rectangle(4,5), Cons(Triangle(4), Nil())))"
   ]
  },
  {
   "cell_type": "markdown",
   "metadata": {},
   "source": [
    "### Functions over lists, imperatively"
   ]
  },
  {
   "cell_type": "markdown",
   "metadata": {},
   "source": [
    "We can implement functions over lists in an imperative style using variables and while loops:"
   ]
  },
  {
   "cell_type": "code",
   "execution_count": 15,
   "metadata": {},
   "outputs": [
    {
     "data": {
      "text/plain": [
       "defined \u001b[32mfunction\u001b[39m \u001b[36msumAreasI\u001b[39m"
      ]
     },
     "execution_count": 15,
     "metadata": {},
     "output_type": "execute_result"
    }
   ],
   "source": [
    "def sumAreasI(list: ShapeList): Double = {\n",
    "    var result: Double = 0.0\n",
    "    var cur: ShapeList = list \n",
    "    while (cur != Nil()){\n",
    "        val head: Shape = cur.asInstanceOf[Cons].head\n",
    "        result = result + area(head)\n",
    "        cur = cur.asInstanceOf[Cons].tail \n",
    "    }\n",
    "    result\n",
    "}"
   ]
  },
  {
   "cell_type": "code",
   "execution_count": 16,
   "metadata": {},
   "outputs": [
    {
     "data": {
      "text/plain": [
       "\u001b[36mres15\u001b[39m: \u001b[32mDouble\u001b[39m = \u001b[32m31.141592653589793\u001b[39m"
      ]
     },
     "execution_count": 16,
     "metadata": {},
     "output_type": "execute_result"
    }
   ],
   "source": [
    "sumAreasI(list)"
   ]
  },
  {
   "cell_type": "markdown",
   "metadata": {},
   "source": [
    "### Functions over lists, recursively (i.e. functionally)"
   ]
  },
  {
   "cell_type": "markdown",
   "metadata": {},
   "source": [
    "However, this is not the functional style. In functional programming, we commonly avoid `var`s (mutable variables) and use recursion instead of conventional loops:"
   ]
  },
  {
   "cell_type": "code",
   "execution_count": 17,
   "metadata": {},
   "outputs": [
    {
     "data": {
      "text/plain": [
       "defined \u001b[32mfunction\u001b[39m \u001b[36msumAreas\u001b[39m"
      ]
     },
     "execution_count": 17,
     "metadata": {},
     "output_type": "execute_result"
    }
   ],
   "source": [
    "def sumAreas(list: ShapeList): Double = \n",
    "    list match {\n",
    "        case Nil() => 0.0\n",
    "        case Cons(head, tail) => area(head) + sumAreas(tail)\n",
    "    }"
   ]
  },
  {
   "cell_type": "code",
   "execution_count": 18,
   "metadata": {},
   "outputs": [
    {
     "data": {
      "text/plain": [
       "\u001b[36mres17\u001b[39m: \u001b[32mDouble\u001b[39m = \u001b[32m31.141592653589793\u001b[39m"
      ]
     },
     "execution_count": 18,
     "metadata": {},
     "output_type": "execute_result"
    }
   ],
   "source": [
    "sumAreas(list)"
   ]
  },
  {
   "cell_type": "markdown",
   "metadata": {},
   "source": [
    "### Exercise"
   ]
  },
  {
   "cell_type": "code",
   "execution_count": 19,
   "metadata": {},
   "outputs": [
    {
     "data": {
      "text/plain": [
       "defined \u001b[32mfunction\u001b[39m \u001b[36mperimeter\u001b[39m"
      ]
     },
     "execution_count": 19,
     "metadata": {},
     "output_type": "execute_result"
    }
   ],
   "source": [
    "def perimeter(shape: Shape): Double =\n",
    "    shape match {\n",
    "        case Rectangle(w, h) => 2* (w + h)\n",
    "        case Circle(r) => 2 * Pi * r\n",
    "        case Triangle(b) => 3 * b\n",
    "    }"
   ]
  },
  {
   "cell_type": "code",
   "execution_count": 20,
   "metadata": {},
   "outputs": [
    {
     "data": {
      "text/plain": [
       "defined \u001b[32mfunction\u001b[39m \u001b[36msumPerimeters\u001b[39m"
      ]
     },
     "execution_count": 20,
     "metadata": {},
     "output_type": "execute_result"
    }
   ],
   "source": [
    "def sumPerimeters(list: ShapeList): Double = \n",
    "    list match {\n",
    "        case Nil() => 0.0\n",
    "        case Cons(head, tail) => perimeter(head) + sumPerimeters(tail)\n",
    "    } "
   ]
  },
  {
   "cell_type": "code",
   "execution_count": 21,
   "metadata": {},
   "outputs": [
    {
     "data": {
      "text/plain": [
       "\u001b[36mres20\u001b[39m: \u001b[32mDouble\u001b[39m = \u001b[32m36.283185307179586\u001b[39m"
      ]
     },
     "execution_count": 21,
     "metadata": {},
     "output_type": "execute_result"
    }
   ],
   "source": [
    "sumPerimeters(list)"
   ]
  },
  {
   "cell_type": "markdown",
   "metadata": {},
   "source": [
    "## Modularisation"
   ]
  },
  {
   "cell_type": "markdown",
   "metadata": {},
   "source": [
    "As you surely noticed, the functions `sumPerimeters` and `sumAreas` are like two drops of water. How could we achieve a more modular definition, reusing what they have in common? Functional programming excels at modularity, and offers different techniques to this aim. Here, we will review two of them: higher-order functions, parametric polymorphism and type classes."
   ]
  },
  {
   "cell_type": "markdown",
   "metadata": {},
   "source": [
    "### Higher-order functions"
   ]
  },
  {
   "cell_type": "markdown",
   "metadata": {},
   "source": [
    "First, the difference between both functions lies in the particular function being applied to each shape (`area` or `perimeter`). We can abstract away this different by adding a new function parameters. The new parameter being a function, we end up with a function that receives functions. This is called a higher-order function."
   ]
  },
  {
   "cell_type": "code",
   "execution_count": 22,
   "metadata": {},
   "outputs": [
    {
     "data": {
      "text/plain": [
       "defined \u001b[32mfunction\u001b[39m \u001b[36mapplyFunctionOnShapes\u001b[39m"
      ]
     },
     "execution_count": 22,
     "metadata": {},
     "output_type": "execute_result"
    }
   ],
   "source": [
    "def applyFunctionOnShapes(f: Shape => Double)(list: ShapeList): Double = \n",
    "    list match {\n",
    "        case Nil() => 0.0\n",
    "        case Cons(head, tail) => f(head) + applyFunctionOnShapes(f)(tail)\n",
    "    }"
   ]
  },
  {
   "cell_type": "markdown",
   "metadata": {},
   "source": [
    "We can now redefine our functions in a more modular way, by composing the generic module `applyFunctionOnShapes` and the specific one `perimeter` or `area`."
   ]
  },
  {
   "cell_type": "code",
   "execution_count": 23,
   "metadata": {},
   "outputs": [
    {
     "data": {
      "text/plain": [
       "\u001b[36msumPerimeters\u001b[39m: \u001b[32mShapeList\u001b[39m => \u001b[32mDouble\u001b[39m = ammonite.$sess.cmd22$Helper$$Lambda$2402/1488170144@79244f10"
      ]
     },
     "execution_count": 23,
     "metadata": {},
     "output_type": "execute_result"
    }
   ],
   "source": [
    "val sumPerimeters: ShapeList => Double = \n",
    "    applyFunctionOnShapes(perimeter)"
   ]
  },
  {
   "cell_type": "code",
   "execution_count": 24,
   "metadata": {},
   "outputs": [
    {
     "data": {
      "text/plain": [
       "\u001b[36msumAreas\u001b[39m: \u001b[32mShapeList\u001b[39m => \u001b[32mDouble\u001b[39m = ammonite.$sess.cmd23$Helper$$Lambda$2407/1501344579@5fc605f1"
      ]
     },
     "execution_count": 24,
     "metadata": {},
     "output_type": "execute_result"
    }
   ],
   "source": [
    "val sumAreas: ShapeList => Double = \n",
    "    applyFunctionOnShapes(area)"
   ]
  },
  {
   "cell_type": "markdown",
   "metadata": {},
   "source": [
    "### Parametric polymorphism"
   ]
  },
  {
   "cell_type": "markdown",
   "metadata": {},
   "source": [
    "Our definition of lists is way too specific. What if we need a list of integers? We would essentially copy-&-paste that definition and substitute `Int` for `Shape` everywhere. Instead, we can offer a _generic_ definition as follows:"
   ]
  },
  {
   "cell_type": "code",
   "execution_count": 25,
   "metadata": {},
   "outputs": [
    {
     "data": {
      "text/plain": [
       "defined \u001b[32mclass\u001b[39m \u001b[36mList\u001b[39m\n",
       "defined \u001b[32mclass\u001b[39m \u001b[36mNil\u001b[39m\n",
       "defined \u001b[32mclass\u001b[39m \u001b[36mCons\u001b[39m"
      ]
     },
     "execution_count": 25,
     "metadata": {},
     "output_type": "execute_result"
    }
   ],
   "source": [
    "sealed abstract class List[A]\n",
    "case class Nil[A]() extends List[A]\n",
    "case class Cons[A](head: A, tail: List[A]) extends List[A]"
   ]
  },
  {
   "cell_type": "code",
   "execution_count": 26,
   "metadata": {},
   "outputs": [
    {
     "data": {
      "text/plain": [
       "\u001b[36mlist\u001b[39m: \u001b[32mList\u001b[39m[\u001b[32mShape\u001b[39m] = \u001b[33mCons\u001b[39m(\n",
       "  \u001b[33mCircle\u001b[39m(\u001b[32m1\u001b[39m),\n",
       "  \u001b[33mCons\u001b[39m(\u001b[33mRectangle\u001b[39m(\u001b[32m4\u001b[39m, \u001b[32m5\u001b[39m), \u001b[33mCons\u001b[39m(\u001b[33mTriangle\u001b[39m(\u001b[32m4\u001b[39m), Nil()))\n",
       ")"
      ]
     },
     "execution_count": 26,
     "metadata": {},
     "output_type": "execute_result"
    }
   ],
   "source": [
    "val list: List[Shape] = Cons(Circle(1), Cons(Rectangle(4,5), Cons(Triangle(4), Nil())))"
   ]
  },
  {
   "cell_type": "markdown",
   "metadata": {},
   "source": [
    "How does this affect our generic `applyFunctionOnList`? Can we arrive to a generic definition as well? Yes, and this function is called `foldRight` in the functional programming literature:"
   ]
  },
  {
   "cell_type": "code",
   "execution_count": 27,
   "metadata": {},
   "outputs": [
    {
     "data": {
      "text/plain": [
       "defined \u001b[32mfunction\u001b[39m \u001b[36mfoldRight\u001b[39m"
      ]
     },
     "execution_count": 27,
     "metadata": {},
     "output_type": "execute_result"
    }
   ],
   "source": [
    "def foldRight[A, B, C](b: B)(f: (A, B) => B)(list: List[A]): B = \n",
    "    list match {\n",
    "        case Nil() => b\n",
    "        case Cons(head, tail) => f(head, foldRight(b)(f)(tail))\n",
    "    }"
   ]
  },
  {
   "cell_type": "markdown",
   "metadata": {},
   "source": [
    "The modularisations have to be adapted as follows:"
   ]
  },
  {
   "cell_type": "code",
   "execution_count": 28,
   "metadata": {},
   "outputs": [
    {
     "data": {
      "text/plain": [
       "\u001b[36msumAreas\u001b[39m: \u001b[32mList\u001b[39m[\u001b[32mShape\u001b[39m] => \u001b[32mDouble\u001b[39m = ammonite.$sess.cmd27$Helper$$Lambda$2440/1660206941@dc7dba0"
      ]
     },
     "execution_count": 28,
     "metadata": {},
     "output_type": "execute_result"
    }
   ],
   "source": [
    "val sumAreas: List[Shape] => Double = \n",
    "    foldRight(0.0)((s: Shape, d: Double) => area(s) + d)"
   ]
  },
  {
   "cell_type": "code",
   "execution_count": 29,
   "metadata": {},
   "outputs": [
    {
     "data": {
      "text/plain": [
       "\u001b[36msumPerimeters\u001b[39m: \u001b[32mList\u001b[39m[\u001b[32mShape\u001b[39m] => \u001b[32mDouble\u001b[39m = ammonite.$sess.cmd28$Helper$$Lambda$2446/331780121@6b1dd65f"
      ]
     },
     "execution_count": 29,
     "metadata": {},
     "output_type": "execute_result"
    }
   ],
   "source": [
    "val sumPerimeters: List[Shape] => Double = \n",
    "    foldRight(0.0)((s: Shape, d: Double) => perimeter(s) + d)"
   ]
  },
  {
   "cell_type": "markdown",
   "metadata": {},
   "source": [
    "### Higher-order functions (again)"
   ]
  },
  {
   "cell_type": "markdown",
   "metadata": {},
   "source": [
    "In this section we will offer a different modularisation which attempts to grasp more faithfully the kind of computation that we want to perform. The problem with `foldRight` is that it's too generic, and our problem can be solved more meaningfully with a more specfic, yet generic, pattern. In particular, this pattern consists in two steps: first, map the list values using a function, and then, fold over that list of values. The resulting function is called `foldMap`:"
   ]
  },
  {
   "cell_type": "code",
   "execution_count": 30,
   "metadata": {},
   "outputs": [
    {
     "data": {
      "text/plain": [
       "defined \u001b[32mfunction\u001b[39m \u001b[36mfoldMap\u001b[39m"
      ]
     },
     "execution_count": 30,
     "metadata": {},
     "output_type": "execute_result"
    }
   ],
   "source": [
    "def foldMap[A, B](zero: B, combine: (B, B) => B)(\n",
    "        map: A => B)(list: List[A]): B = \n",
    "    list match {\n",
    "        case Nil() => zero\n",
    "        case Cons(head, tail) => \n",
    "            combine(map(head), foldMap(zero, combine)(map)(tail))\n",
    "    }"
   ]
  },
  {
   "cell_type": "markdown",
   "metadata": {},
   "source": [
    "or using `foldRight`:"
   ]
  },
  {
   "cell_type": "code",
   "execution_count": 31,
   "metadata": {},
   "outputs": [
    {
     "data": {
      "text/plain": [
       "defined \u001b[32mfunction\u001b[39m \u001b[36mfoldMap\u001b[39m"
      ]
     },
     "execution_count": 31,
     "metadata": {},
     "output_type": "execute_result"
    }
   ],
   "source": [
    "def foldMap[A, B](zero: B)(combine: (B, B) => B)(map: A => B)(list: List[A]): B = \n",
    "    foldRight(zero)((a: A, b: B) => combine(map(a), b))(list)"
   ]
  },
  {
   "cell_type": "markdown",
   "metadata": {},
   "source": [
    "But we may also give a different implementation of `foldMap`, which aims at exploting the paralelism of our processors or clusters. This is what essentially do Big data frameworks like MapReduce or Spark."
   ]
  },
  {
   "cell_type": "code",
   "execution_count": 32,
   "metadata": {},
   "outputs": [
    {
     "data": {
      "text/plain": [
       "\u001b[36msumAreas\u001b[39m: \u001b[32mList\u001b[39m[\u001b[32mShape\u001b[39m] => \u001b[32mDouble\u001b[39m = ammonite.$sess.cmd31$Helper$$Lambda$2453/1414409329@2b65d0dc"
      ]
     },
     "execution_count": 32,
     "metadata": {},
     "output_type": "execute_result"
    }
   ],
   "source": [
    "val sumAreas: List[Shape] => Double =\n",
    "    foldMap(0.0)(_ + _)(area)"
   ]
  },
  {
   "cell_type": "code",
   "execution_count": 33,
   "metadata": {},
   "outputs": [
    {
     "data": {
      "text/plain": [
       "\u001b[36msumPerimeters\u001b[39m: \u001b[32mList\u001b[39m[\u001b[32mShape\u001b[39m] => \u001b[32mDouble\u001b[39m = ammonite.$sess.cmd32$Helper$$Lambda$2460/371831125@20071608"
      ]
     },
     "execution_count": 33,
     "metadata": {},
     "output_type": "execute_result"
    }
   ],
   "source": [
    "val sumPerimeters: List[Shape] => Double = \n",
    "    foldMap(0.0)(_ + _)(perimeter)"
   ]
  },
  {
   "cell_type": "markdown",
   "metadata": {},
   "source": [
    "### Type classes"
   ]
  },
  {
   "cell_type": "markdown",
   "metadata": {},
   "source": [
    "In this section, we will adapt the previous modularization by using so-called *type classes*, a popular modularization technique within the functional programming community which was first used in the Haskell programming language. "
   ]
  },
  {
   "cell_type": "markdown",
   "metadata": {},
   "source": [
    "Basically, a type class defines that: a class of types for which we can given implementations of a number of functions. Type classes and algebras match very well. For instance, a semigroup is defined by a type A together with an implementation of the `combine` function, which must be associative. An a monoid is a semigroup which also provides a `zero`, i.e. a neutral element of the combine operation. In Scala:"
   ]
  },
  {
   "cell_type": "code",
   "execution_count": 47,
   "metadata": {},
   "outputs": [
    {
     "data": {
      "text/plain": [
       "defined \u001b[32mtrait\u001b[39m \u001b[36mSemigroup\u001b[39m\n",
       "defined \u001b[32mtrait\u001b[39m \u001b[36mMonoid\u001b[39m\n",
       "defined \u001b[32mobject\u001b[39m \u001b[36mMonoid\u001b[39m"
      ]
     },
     "execution_count": 47,
     "metadata": {},
     "output_type": "execute_result"
    }
   ],
   "source": [
    "trait Semigroup[A]{\n",
    "    def combine(a1: A, a2: A): A\n",
    "}\n",
    "\n",
    "trait Monoid[A] extends Semigroup[A]{\n",
    "    def zero: A\n",
    "}\n",
    "\n",
    "object Monoid{\n",
    "    def apply[A](implicit M: Monoid[A]): Monoid[A] = M \n",
    "    \n",
    "    implicit val DoubleIsAMonoid = new Monoid[Double]{\n",
    "        def zero: Double = 0.0\n",
    "        def combine(a1: Double, a2: Double): Double = a1 + a2\n",
    "    }\n",
    "}"
   ]
  },
  {
   "cell_type": "markdown",
   "metadata": {},
   "source": [
    "Now, we can express more succintly the signature of `foldMap` as follows:"
   ]
  },
  {
   "cell_type": "code",
   "execution_count": 49,
   "metadata": {},
   "outputs": [
    {
     "data": {
      "text/plain": [
       "defined \u001b[32mfunction\u001b[39m \u001b[36mfoldMap\u001b[39m"
      ]
     },
     "execution_count": 49,
     "metadata": {},
     "output_type": "execute_result"
    }
   ],
   "source": [
    "def foldMap[A, B: Monoid](map: A => B)(list: List[A]): B = \n",
    "    foldRight(Monoid[B].zero)(\n",
    "        (a: A, b: B) => Monoid[B].combine(map(a), b))(list)"
   ]
  },
  {
   "cell_type": "markdown",
   "metadata": {},
   "source": [
    "and exploit the implicit mechanism of Scala to make calls without bothering to pass the zero and combine operations:"
   ]
  },
  {
   "cell_type": "code",
   "execution_count": 50,
   "metadata": {},
   "outputs": [
    {
     "data": {
      "text/plain": [
       "\u001b[36msumAreas\u001b[39m: \u001b[32mList\u001b[39m[\u001b[32mShape\u001b[39m] => \u001b[32mDouble\u001b[39m = ammonite.$sess.cmd49$Helper$$Lambda$2540/1289812685@2926f145"
      ]
     },
     "execution_count": 50,
     "metadata": {},
     "output_type": "execute_result"
    }
   ],
   "source": [
    "val sumAreas: List[Shape] => Double = \n",
    "    foldMap(area)"
   ]
  },
  {
   "cell_type": "code",
   "execution_count": 51,
   "metadata": {},
   "outputs": [
    {
     "data": {
      "text/plain": [
       "defined \u001b[32mfunction\u001b[39m \u001b[36msumPerimeters\u001b[39m"
      ]
     },
     "execution_count": 51,
     "metadata": {},
     "output_type": "execute_result"
    }
   ],
   "source": [
    "def sumPerimeters: List[Shape] => Double = \n",
    "    foldMap(perimeter)"
   ]
  },
  {
   "cell_type": "code",
   "execution_count": 52,
   "metadata": {},
   "outputs": [
    {
     "data": {
      "text/plain": [
       "\u001b[36mres51\u001b[39m: \u001b[32mDouble\u001b[39m = \u001b[32m36.283185307179586\u001b[39m"
      ]
     },
     "execution_count": 52,
     "metadata": {},
     "output_type": "execute_result"
    }
   ],
   "source": [
    "sumPerimeters(list)"
   ]
  },
  {
   "cell_type": "markdown",
   "metadata": {},
   "source": [
    "What do type classes offer to us? Just the possibility of writing more concise definitions? Not only that: they enhance understanding, testability, correctness, evolvability, etc."
   ]
  },
  {
   "cell_type": "code",
   "execution_count": null,
   "metadata": {},
   "outputs": [],
   "source": []
  }
 ],
 "metadata": {
  "kernelspec": {
   "display_name": "Scala",
   "language": "scala",
   "name": "scala"
  },
  "language_info": {
   "codemirror_mode": "text/x-scala",
   "file_extension": ".scala",
   "mimetype": "text/x-scala",
   "name": "scala",
   "nbconvert_exporter": "script",
   "version": "2.13.0"
  }
 },
 "nbformat": 4,
 "nbformat_minor": 2
}
